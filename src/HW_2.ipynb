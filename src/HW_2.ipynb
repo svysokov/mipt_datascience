{
 "cells": [
  {
   "cell_type": "markdown",
   "metadata": {},
   "source": [
    "# Домашнее задание по курсу анализа данных # 2\n",
    "Версия от 14.11.2021\n",
    "\n",
    "Всего 50 баллов = 50 основных + 10 дополнительных\n",
    "\n",
    "**Оценка**  = (Количество баллов за работу*2 + 20)/10\n",
    "\n",
    "**Мягкий дедлайн: 06.12.2021  23:59**\n",
    "\n",
    "**Жесткий дедлайн: 11.12.2021  23:59**\n",
    "\n",
    "Присылать решение ссылкой на ваш **github** в телеграмм **@Aleron75** или на почту **milenkin.aa@phystech.edu**\n",
    "\n",
    "**Автор:** Миленькин Александр"
   ]
  },
  {
   "cell_type": "code",
   "execution_count": 1,
   "metadata": {},
   "outputs": [],
   "source": [
    "from selenium import webdriver\n",
    "from selenium.webdriver.chrome.service import Service\n",
    "from selenium.webdriver.chrome.options import Options\n",
    "from selenium.webdriver.common.by import By\n",
    "from selenium.webdriver.support.ui import WebDriverWait\n",
    "from selenium.webdriver.support import expected_conditions as EC\n",
    "from selenium.common.exceptions import TimeoutException\n",
    "import numpy as np\n",
    "import pandas as pd\n",
    "from time import sleep"
   ]
  },
  {
   "cell_type": "markdown",
   "metadata": {},
   "source": [
    "# Парсим рейтинг преподавателей с Вики-Физтех"
   ]
  },
  {
   "cell_type": "markdown",
   "metadata": {},
   "source": [
    "<div class=\"alert alert-info\">\n",
    "    \n",
    "Итак, перед вами **VIKI-MIPT** - сборник отзывов о кафедрах и преподавателях МФТИ: ` http://wikimipt.org/wiki/ `\n",
    "\n",
    "Эта кладезь отзывов не раз давала студентам оценить психологический портрет потенциальных экзаменаторов и преподавателей. \n",
    "    \n",
    "    \n",
    "<img src=\"../lessons/images/wiki_mipt_front.PNG\" height=\"300\" width=\"1300\"> \n",
    "\n"
   ]
  },
  {
   "cell_type": "markdown",
   "metadata": {},
   "source": [
    "# Описание задачи: "
   ]
  },
  {
   "cell_type": "markdown",
   "metadata": {},
   "source": [
    "**Задача** - собрать данные по всем текущим преподавателям всех `институтских кафедр` МФТИ.\n",
    "\n",
    "Собранный датасет должен представлять из себя `.csv` файл со следующими полями:\n",
    "\n",
    "* `full_name` - ФИО преподавателя\n",
    "*  `teach_place` - Кафедра\n",
    "*  `degree`- Ученая Степень\n",
    "* `knowledge` - Знания\n",
    "*  `teaching_skill` - Умение преподавать\t\n",
    "* `commication_skill` - В общении\t\n",
    "* `easy_exam` - «Халявность»\t\n",
    "* `overall_score` - Общая оценка"
   ]
  },
  {
   "cell_type": "markdown",
   "metadata": {},
   "source": [
    "<img src=\"../lessons/images/wiki_mipt_info.PNG\" height=\"300\" width=\"300\"> \n",
    "\n",
    "**Комментарий:** - Знание, умение преподавать, в общение, \"Халявность\" и Общая оценка можно найти странице каждого преподавателя. "
   ]
  },
  {
   "cell_type": "markdown",
   "metadata": {},
   "source": [
    "<div class=\"alert alert-warning\">\n",
    "    \n",
    "Финальный балл складывается из трех частей:\n",
    "\n",
    "* Cобранный датасет (выложить архивом на гитхаб)\n",
    "* python кода, которым был собран датасет (выложить на гитхаб)\n",
    "* Окуратный и понятный код с комментариями\n",
    "    \n",
    "    \n",
    "**Дополнительные + 10 баллов можно получить за кластеризацию преподавателей, используя только оценки из собранных данных**"
   ]
  },
  {
   "cell_type": "markdown",
   "metadata": {},
   "source": [
    "# Возможный алгоритм обхода для сбора данных:"
   ]
  },
  {
   "cell_type": "code",
   "execution_count": 2,
   "metadata": {},
   "outputs": [],
   "source": [
    "# 0 - Открываем с помощью Selenium клавную страницу вики-Физтех- http://wikimipt.org/wiki/   \n",
    "# 1 - Получаем список кафедр с главной страницу вики-Физтех    \n",
    "# Обходя список кафедр, \"проваливаемся\" в каждую страницу кафедру кликом по названию кафедры\n",
    "#     2 - Получаем список преподавателей\n",
    "#         Обходя список преподавателей \"Проваливаемся\" на страницу преподавателя по ФИО преподавателя\n",
    "#             3 - Получаем табличку данных с характеристмиками преподавателями и прочу необходимую информацию. \n",
    "#             Записываем в pandas dataframe\n",
    "# Сохраняем данные в .csv файл"
   ]
  },
  {
   "cell_type": "code",
   "execution_count": 4,
   "metadata": {},
   "outputs": [],
   "source": [
    "# Предварительная настройка\n",
    "driver_path='../data/chromedriver'\n",
    "service = Service(driver_path)\n",
    "options = Options()\n",
    "options.add_argument('--headless')\n",
    "options.add_argument('--remote-debugging-port=9222')\n",
    "options.add_argument('--disable-gpu')\n",
    "browser = webdriver.Chrome(service=service, options=options)\n",
    "url = \"http://wikimipt.org/wiki/\"\n",
    "timeout = 5"
   ]
  },
  {
   "cell_type": "code",
   "execution_count": 5,
   "metadata": {},
   "outputs": [],
   "source": [
    "def get_department_urls(browser):   \n",
    "    # Кафедры находятся на сайте в виде первого неупорядоченного списка \n",
    "    html_list = browser.find_element(By.TAG_NAME, \"ul\")\n",
    "    list_of_departments = html_list.find_elements(By.XPATH, \"li/a\")\n",
    "    # Составим список ссылок на кафедры\n",
    "    list_of_departments_urls = [url.get_attribute(\"href\") for url in list_of_departments]\n",
    "    list_of_departments_names = [url.get_attribute(\"title\") for url in list_of_departments]\n",
    "    return (list_of_departments_urls, list_of_departments_names)"
   ]
  },
  {
   "cell_type": "code",
   "execution_count": 6,
   "metadata": {},
   "outputs": [],
   "source": [
    "# Ссылки имена\n",
    "def get_name_urls(browser):\n",
    "    # Кафедра в виде текстовых столбцов \n",
    "    list_of_names = browser.find_elements(By.XPATH, '//*[@id=\"mw-content-text\"]/div[3]/ul/li/a')\n",
    "    if list_of_names != []:\n",
    "        # Проверка на кафедру системного анализа экономики\n",
    "        test_href = list_of_names[0].get_attribute(\"href\")\n",
    "        if test_href.find('#') > 0:\n",
    "            list_of_names = []\n",
    "    if list_of_names == []:\n",
    "        # Кафедра в виде \"галлереи\"\n",
    "        html_list = browser.find_element(By.CLASS_NAME, \"srf-gallery\")\n",
    "        list_of_names = html_list.find_elements(By.XPATH, 'ul/li/div/div[2]/p/a')\n",
    "    return ([url.get_attribute(\"href\") for url in list_of_names], [url.get_attribute(\"title\") for url in list_of_names])"
   ]
  },
  {
   "cell_type": "code",
   "execution_count": 7,
   "metadata": {},
   "outputs": [],
   "source": [
    "# Первая часть информации\n",
    "def get_person_info(url, name, department):\n",
    "    # Читаем первую таблицу: выбираем только нужные нам столбцы и транспонируем для удобства\n",
    "    info_table = pd.read_html(url)[0]\n",
    "    info_table = info_table[(info_table[0] == 'Дата рождения')  | \n",
    "                            (info_table[0] == 'Альма-матер')    | \n",
    "                            (info_table[0] == 'Учёная степень') | \n",
    "                            (info_table.index == 0)             &\n",
    "                            (info_table[0].notnull())].transpose()\n",
    "    # В первой строке по сути находятся названия колонок, заменим численные колонки на строковые\n",
    "    info_table.columns = info_table.iloc[0]\n",
    "    info_table = info_table.drop([0], axis=0)\n",
    "    \n",
    "    # Смотрим наличие информации и формируем словарь\n",
    "    row_info = {'full_name':     np.nan,\n",
    "                'date_of_birth': np.nan,\n",
    "                'teach_place':   np.nan,\n",
    "                'degree':        np.nan,\n",
    "                'department':    department}\n",
    "    for column in info_table.columns:\n",
    "        if info_table[column][1].endswith(')'):\n",
    "            info_table[column][1] = info_table[column][1][:-7]\n",
    "        if column == 'Дата рождения':\n",
    "            row_info['date_of_birth'] = info_table[column][1]\n",
    "        elif column == 'Альма-матер':\n",
    "            row_info['teach_place'] = info_table[column][1]\n",
    "        elif column == 'Учёная степень':\n",
    "            row_info['degree'] = info_table[column][1]\n",
    "        elif column == 'Работает':\n",
    "            row_info['department'] = info_table[column][1]\n",
    "        else:\n",
    "            row_info['full_name'] = name\n",
    "    return row_info"
   ]
  },
  {
   "cell_type": "code",
   "execution_count": 8,
   "metadata": {},
   "outputs": [],
   "source": [
    "# Вторая часть информации\n",
    "def get_ratings(browser):\n",
    "    # Все рейтинги помечены именем класса starrating-avg и идут на странице подряд\n",
    "    ratings = []\n",
    "    html_ratings = browser.find_elements(By.CLASS_NAME, 'starrating-avg')\n",
    "    for rating in html_ratings:\n",
    "        if rating.text.find('нет') < 0:\n",
    "            number = float(rating.text.split(' ')[0])\n",
    "        else:\n",
    "            number = np.nan\n",
    "        ratings.append(number)\n",
    "    row_info = {'knowledge': ratings[0],\n",
    "                'teaching_skill': ratings[1],\n",
    "                'commication_skill': ratings[2],\n",
    "                'easy_exam': ratings[3],\n",
    "                'overall_score': ratings[4]}\n",
    "    return row_info "
   ]
  },
  {
   "cell_type": "code",
   "execution_count": 9,
   "metadata": {},
   "outputs": [],
   "source": [
    "def get_row(browser, url, name, department):\n",
    "    person_info = get_person_info(url, name, department)\n",
    "    rating_info = get_ratings(browser)\n",
    "    person_info.update(rating_info)\n",
    "    return person_info"
   ]
  },
  {
   "cell_type": "code",
   "execution_count": 13,
   "metadata": {},
   "outputs": [],
   "source": [
    "browser.get(url)\n",
    "\n",
    "WebDriverWait(browser, timeout).until(EC.visibility_of_element_located((By.TAG_NAME, 'ul')))\n",
    "list_of_departments_urls, departments = get_department_urls(browser)\n",
    "\n",
    "# Тело составление датасета\n",
    "rows = []\n",
    "for department_url, department in zip(list_of_departments_urls, departments):\n",
    "    browser.get(department_url)\n",
    "    timeout = 20\n",
    "    try:\n",
    "        WebDriverWait(browser, timeout).until(EC.visibility_of_element_located((By.XPATH, '//*[@id=\"mw-content-text\"]/div[3]/ul')))\n",
    "    except TimeoutException:\n",
    "        continue\n",
    "    \n",
    "    list_of_names_urls, names = get_name_urls(browser)\n",
    "    timeout = 5\n",
    "    for name_url,name in zip(list_of_names_urls, names):\n",
    "        browser.get(name_url)\n",
    "        while True:\n",
    "            try:\n",
    "                WebDriverWait(browser, timeout).until(EC.visibility_of_element_located((By.CLASS_NAME, 'starrating-avg')))\n",
    "                break\n",
    "            except TimeoutException:\n",
    "                browser.refresh()\n",
    "        row = get_row(browser, name_url, name, department)\n",
    "        rows.append(row)\n",
    "        \n",
    "dataset = pd.DataFrame(rows)\n",
    "dataset.to_csv('../data/mipt_dataset_2.csv', encoding='utf-8-sig', index=False)"
   ]
  },
  {
   "cell_type": "code",
   "execution_count": 15,
   "metadata": {},
   "outputs": [
    {
     "data": {
      "text/html": [
       "<div>\n",
       "<style scoped>\n",
       "    .dataframe tbody tr th:only-of-type {\n",
       "        vertical-align: middle;\n",
       "    }\n",
       "\n",
       "    .dataframe tbody tr th {\n",
       "        vertical-align: top;\n",
       "    }\n",
       "\n",
       "    .dataframe thead th {\n",
       "        text-align: right;\n",
       "    }\n",
       "</style>\n",
       "<table border=\"1\" class=\"dataframe\">\n",
       "  <thead>\n",
       "    <tr style=\"text-align: right;\">\n",
       "      <th></th>\n",
       "      <th>full_name</th>\n",
       "      <th>date_of_birth</th>\n",
       "      <th>teach_place</th>\n",
       "      <th>degree</th>\n",
       "      <th>department</th>\n",
       "      <th>knowledge</th>\n",
       "      <th>teaching_skill</th>\n",
       "      <th>commication_skill</th>\n",
       "      <th>easy_exam</th>\n",
       "      <th>overall_score</th>\n",
       "    </tr>\n",
       "  </thead>\n",
       "  <tbody>\n",
       "    <tr>\n",
       "      <th>0</th>\n",
       "      <td>Агаханов Назар Хангельдыевич</td>\n",
       "      <td>25 июня 1954</td>\n",
       "      <td>МехМат МГУ</td>\n",
       "      <td>Кандидат физико-математических наук</td>\n",
       "      <td>Кафедра высшей математики</td>\n",
       "      <td>4.86</td>\n",
       "      <td>4.77</td>\n",
       "      <td>4.79</td>\n",
       "      <td>4.25</td>\n",
       "      <td>4.79</td>\n",
       "    </tr>\n",
       "    <tr>\n",
       "      <th>1</th>\n",
       "      <td>Агаханова Яна Сергеевна</td>\n",
       "      <td>NaN</td>\n",
       "      <td>NaN</td>\n",
       "      <td>Кандидат физико-математических наук</td>\n",
       "      <td>Кафедра высшей математики</td>\n",
       "      <td>4.51</td>\n",
       "      <td>4.63</td>\n",
       "      <td>4.85</td>\n",
       "      <td>4.81</td>\n",
       "      <td>4.81</td>\n",
       "    </tr>\n",
       "    <tr>\n",
       "      <th>2</th>\n",
       "      <td>Алексеев Василий Антонович</td>\n",
       "      <td>NaN</td>\n",
       "      <td>МФТИ</td>\n",
       "      <td>NaN</td>\n",
       "      <td>Кафедра высшей математики</td>\n",
       "      <td>4.67</td>\n",
       "      <td>4.33</td>\n",
       "      <td>4.50</td>\n",
       "      <td>4.17</td>\n",
       "      <td>4.67</td>\n",
       "    </tr>\n",
       "    <tr>\n",
       "      <th>3</th>\n",
       "      <td>Амосов Григорий Геннадьевич</td>\n",
       "      <td>27 ноября 1972</td>\n",
       "      <td>ФУПМ МФТИ</td>\n",
       "      <td>Доктор физико-математических наук</td>\n",
       "      <td>Кафедра высшей математики</td>\n",
       "      <td>4.42</td>\n",
       "      <td>3.42</td>\n",
       "      <td>4.33</td>\n",
       "      <td>4.44</td>\n",
       "      <td>4.00</td>\n",
       "    </tr>\n",
       "    <tr>\n",
       "      <th>4</th>\n",
       "      <td>Андреев Михаил Юрьевич</td>\n",
       "      <td>NaN</td>\n",
       "      <td>ФПМЭ МФТИ</td>\n",
       "      <td>кандидат физико-математических наук</td>\n",
       "      <td>Кафедра высшей математики</td>\n",
       "      <td>3.46</td>\n",
       "      <td>3.50</td>\n",
       "      <td>3.73</td>\n",
       "      <td>3.47</td>\n",
       "      <td>3.69</td>\n",
       "    </tr>\n",
       "    <tr>\n",
       "      <th>...</th>\n",
       "      <td>...</td>\n",
       "      <td>...</td>\n",
       "      <td>...</td>\n",
       "      <td>...</td>\n",
       "      <td>...</td>\n",
       "      <td>...</td>\n",
       "      <td>...</td>\n",
       "      <td>...</td>\n",
       "      <td>...</td>\n",
       "      <td>...</td>\n",
       "    </tr>\n",
       "    <tr>\n",
       "      <th>737</th>\n",
       "      <td>Лупандин Иван Владимирович</td>\n",
       "      <td>NaN</td>\n",
       "      <td>NaN</td>\n",
       "      <td>NaN</td>\n",
       "      <td>Кафедра философии</td>\n",
       "      <td>4.67</td>\n",
       "      <td>4.50</td>\n",
       "      <td>4.67</td>\n",
       "      <td>4.50</td>\n",
       "      <td>4.67</td>\n",
       "    </tr>\n",
       "    <tr>\n",
       "      <th>738</th>\n",
       "      <td>Петров Алексей Алексеевич</td>\n",
       "      <td>NaN</td>\n",
       "      <td>NaN</td>\n",
       "      <td>NaN</td>\n",
       "      <td>Кафедра философии</td>\n",
       "      <td>NaN</td>\n",
       "      <td>NaN</td>\n",
       "      <td>NaN</td>\n",
       "      <td>NaN</td>\n",
       "      <td>NaN</td>\n",
       "    </tr>\n",
       "    <tr>\n",
       "      <th>739</th>\n",
       "      <td>Семёнов Юрий Иванович</td>\n",
       "      <td>5 сентября 1929</td>\n",
       "      <td>Красноярский педагогический институт</td>\n",
       "      <td>Доктор исторических наук</td>\n",
       "      <td>Кафедра философии</td>\n",
       "      <td>NaN</td>\n",
       "      <td>NaN</td>\n",
       "      <td>NaN</td>\n",
       "      <td>NaN</td>\n",
       "      <td>NaN</td>\n",
       "    </tr>\n",
       "    <tr>\n",
       "      <th>740</th>\n",
       "      <td>Скворчевский Константин Анатольевич</td>\n",
       "      <td>NaN</td>\n",
       "      <td>МИФИ</td>\n",
       "      <td>Доктор технических наук</td>\n",
       "      <td>Кафедра философии</td>\n",
       "      <td>4.43</td>\n",
       "      <td>4.43</td>\n",
       "      <td>4.29</td>\n",
       "      <td>3.50</td>\n",
       "      <td>4.33</td>\n",
       "    </tr>\n",
       "    <tr>\n",
       "      <th>741</th>\n",
       "      <td>Бубнов Григорий Георгиевич</td>\n",
       "      <td>NaN</td>\n",
       "      <td>МФТИ</td>\n",
       "      <td>Доктор экономических наук</td>\n",
       "      <td>Высшая школа системного инжиниринга</td>\n",
       "      <td>3.00</td>\n",
       "      <td>3.00</td>\n",
       "      <td>3.00</td>\n",
       "      <td>3.00</td>\n",
       "      <td>3.00</td>\n",
       "    </tr>\n",
       "  </tbody>\n",
       "</table>\n",
       "<p>742 rows × 10 columns</p>\n",
       "</div>"
      ],
      "text/plain": [
       "                               full_name    date_of_birth  \\\n",
       "0           Агаханов Назар Хангельдыевич     25 июня 1954   \n",
       "1                Агаханова Яна Сергеевна              NaN   \n",
       "2             Алексеев Василий Антонович              NaN   \n",
       "3            Амосов Григорий Геннадьевич   27 ноября 1972   \n",
       "4                 Андреев Михаил Юрьевич              NaN   \n",
       "..                                   ...              ...   \n",
       "737           Лупандин Иван Владимирович              NaN   \n",
       "738            Петров Алексей Алексеевич              NaN   \n",
       "739                Семёнов Юрий Иванович  5 сентября 1929   \n",
       "740  Скворчевский Константин Анатольевич              NaN   \n",
       "741           Бубнов Григорий Георгиевич              NaN   \n",
       "\n",
       "                              teach_place  \\\n",
       "0                              МехМат МГУ   \n",
       "1                                     NaN   \n",
       "2                                    МФТИ   \n",
       "3                               ФУПМ МФТИ   \n",
       "4                               ФПМЭ МФТИ   \n",
       "..                                    ...   \n",
       "737                                   NaN   \n",
       "738                                   NaN   \n",
       "739  Красноярский педагогический институт   \n",
       "740                                  МИФИ   \n",
       "741                                  МФТИ   \n",
       "\n",
       "                                  degree                           department  \\\n",
       "0    Кандидат физико-математических наук            Кафедра высшей математики   \n",
       "1    Кандидат физико-математических наук            Кафедра высшей математики   \n",
       "2                                    NaN            Кафедра высшей математики   \n",
       "3      Доктор физико-математических наук            Кафедра высшей математики   \n",
       "4    кандидат физико-математических наук            Кафедра высшей математики   \n",
       "..                                   ...                                  ...   \n",
       "737                                  NaN                    Кафедра философии   \n",
       "738                                  NaN                    Кафедра философии   \n",
       "739             Доктор исторических наук                    Кафедра философии   \n",
       "740              Доктор технических наук                    Кафедра философии   \n",
       "741            Доктор экономических наук  Высшая школа системного инжиниринга   \n",
       "\n",
       "     knowledge  teaching_skill  commication_skill  easy_exam  overall_score  \n",
       "0         4.86            4.77               4.79       4.25           4.79  \n",
       "1         4.51            4.63               4.85       4.81           4.81  \n",
       "2         4.67            4.33               4.50       4.17           4.67  \n",
       "3         4.42            3.42               4.33       4.44           4.00  \n",
       "4         3.46            3.50               3.73       3.47           3.69  \n",
       "..         ...             ...                ...        ...            ...  \n",
       "737       4.67            4.50               4.67       4.50           4.67  \n",
       "738        NaN             NaN                NaN        NaN            NaN  \n",
       "739        NaN             NaN                NaN        NaN            NaN  \n",
       "740       4.43            4.43               4.29       3.50           4.33  \n",
       "741       3.00            3.00               3.00       3.00           3.00  \n",
       "\n",
       "[742 rows x 10 columns]"
      ]
     },
     "execution_count": 15,
     "metadata": {},
     "output_type": "execute_result"
    }
   ],
   "source": [
    "browser.close()\n",
    "dataset"
   ]
  },
  {
   "cell_type": "code",
   "execution_count": 134,
   "metadata": {},
   "outputs": [],
   "source": [
    "from sklearn.preprocessing import RobustScaler \n",
    "import matplotlib.pyplot as plt\n",
    "import seaborn as sns; sns.set_theme();\n",
    "\n",
    "dataset = pd.read_csv('../data/mipt_dataset.csv')"
   ]
  },
  {
   "cell_type": "code",
   "execution_count": 135,
   "metadata": {},
   "outputs": [
    {
     "name": "stdout",
     "output_type": "stream",
     "text": [
      "full_name: 0\n",
      "date_of_birth: 552\n",
      "teach_place: 401\n",
      "degree: 456\n",
      "department: 0\n",
      "knowledge: 141\n",
      "teaching_skill: 141\n",
      "commication_skill: 139\n",
      "easy_exam: 138\n",
      "overall_score: 138\n"
     ]
    }
   ],
   "source": [
    "for col in dataset.columns:\n",
    "    print(f\"{col}: {dataset[col].isna().sum()}\")"
   ]
  },
  {
   "cell_type": "code",
   "execution_count": 136,
   "metadata": {},
   "outputs": [],
   "source": [
    "dataset = dataset.drop(['full_name','date_of_birth','teach_place','degree','department'], axis=1)"
   ]
  },
  {
   "cell_type": "code",
   "execution_count": 137,
   "metadata": {},
   "outputs": [],
   "source": [
    "fill_dataset = dataset.copy(deep=True)\n",
    "drop_dataset = dataset.copy(deep=True)"
   ]
  },
  {
   "cell_type": "code",
   "execution_count": 138,
   "metadata": {},
   "outputs": [],
   "source": [
    "col_names = ['knowledge', 'teaching_skill', 'commication_skill', 'easy_exam', 'overall_score']\n",
    "for col in col_names:\n",
    "    fill_dataset[col] = fill_dataset[col].fillna(fill_dataset[col].mean())\n",
    "drop_dataset = drop_dataset.dropna()"
   ]
  },
  {
   "cell_type": "code",
   "execution_count": 139,
   "metadata": {},
   "outputs": [],
   "source": [
    "features_d = drop_dataset[col_names]\n",
    "featuref_f = fill_dataset[col_names]\n",
    "\n",
    "scaler = RobustScaler()\n",
    "features_d = scaler.fit_transform(features_d.values)\n",
    "featuref_f = scaler.fit_transform(featuref_f.values)\n",
    "\n",
    "drop_dataset[col_names] = features_d\n",
    "fill_dataset[col_names] = featuref_f"
   ]
  },
  {
   "cell_type": "code",
   "execution_count": 143,
   "metadata": {},
   "outputs": [
    {
     "name": "stdout",
     "output_type": "stream",
     "text": [
      "=====DROP_DATASET=====\n",
      "For n_clusters = 2 the average silhouette_score is : 0.525511277019145\n",
      "For n_clusters = 3 the average silhouette_score is : 0.4066776932563452\n",
      "For n_clusters = 4 the average silhouette_score is : 0.2933410049427186\n",
      "For n_clusters = 5 the average silhouette_score is : 0.3047656852803089\n",
      "For n_clusters = 6 the average silhouette_score is : 0.2876377452722378\n",
      "For n_clusters = 7 the average silhouette_score is : 0.28989528220364374\n",
      "For n_clusters = 8 the average silhouette_score is : 0.26925828230863547\n",
      "For n_clusters = 9 the average silhouette_score is : 0.2625554371249949\n",
      "For n_clusters = 10 the average silhouette_score is : 0.2651191169086831\n",
      "For n_clusters = 11 the average silhouette_score is : 0.2611875561667937\n",
      "For n_clusters = 12 the average silhouette_score is : 0.2468176936883841\n",
      "For n_clusters = 13 the average silhouette_score is : 0.25870320227489446\n",
      "=====DROP_DATASET=====\n",
      "For n_clusters = 2 the average silhouette_score is : 0.5590946782530386\n",
      "For n_clusters = 3 the average silhouette_score is : 0.39200078421857193\n",
      "For n_clusters = 4 the average silhouette_score is : 0.3766556821181542\n",
      "For n_clusters = 5 the average silhouette_score is : 0.35701454323890175\n",
      "For n_clusters = 6 the average silhouette_score is : 0.35917758829446217\n",
      "For n_clusters = 7 the average silhouette_score is : 0.369259601579359\n",
      "For n_clusters = 8 the average silhouette_score is : 0.34099106412346547\n",
      "For n_clusters = 9 the average silhouette_score is : 0.3440118161584304\n",
      "For n_clusters = 10 the average silhouette_score is : 0.34276277823237533\n",
      "For n_clusters = 11 the average silhouette_score is : 0.34241939361896495\n",
      "For n_clusters = 12 the average silhouette_score is : 0.3515899829612105\n",
      "For n_clusters = 13 the average silhouette_score is : 0.346903493757792\n"
     ]
    }
   ],
   "source": [
    "from sklearn.cluster import KMeans\n",
    "from sklearn.metrics import silhouette_score\n",
    "\n",
    "silhouettes = []\n",
    "range_n_clusters = range(2,14)\n",
    "print(\"=====DROP_DATASET=====\")\n",
    "for n_clusters in range_n_clusters:\n",
    "    clusterer = KMeans(n_clusters=n_clusters, random_state=42, max_iter=500)\n",
    "    cluster_labels = clusterer.fit_predict(drop_dataset)\n",
    "    silhouette_avg = silhouette_score(drop_dataset, cluster_labels)\n",
    "    silhouettes += silhouette_avg\n",
    "    print(\"For n_clusters =\", n_clusters, \"the average silhouette_score is :\", silhouette_avg)\n",
    "\n",
    "silhouettes = []\n",
    "print(\"=====FILL_DATASET=====\")\n",
    "for n_clusters in range_n_clusters:\n",
    "    clusterer = KMeans(n_clusters=n_clusters, random_state=42, max_iter=500)\n",
    "    cluster_labels = clusterer.fit_predict(fill_dataset)\n",
    "    silhouette_avg = silhouette_score(fill_dataset, cluster_labels)\n",
    "    silhouettes += silhouette_avg\n",
    "    print(\"For n_clusters =\", n_clusters, \"the average silhouette_score is :\", silhouette_avg)"
   ]
  },
  {
   "cell_type": "code",
   "execution_count": 149,
   "metadata": {},
   "outputs": [],
   "source": [
    "from sklearn.decomposition import PCA\n",
    "\n",
    "data_x_y_drop = PCA(n_components=2, random_state=22).fit_transform(drop_dataset)\n",
    "data_x_y_fill = PCA(n_components=2, random_state=22).fit_transform(fill_dataset)"
   ]
  },
  {
   "cell_type": "code",
   "execution_count": 151,
   "metadata": {},
   "outputs": [],
   "source": [
    "clusterer = KMeans(n_clusters=5, random_state=42, max_iter=500)\n",
    "cluster_labels_drop = clusterer.fit_predict(drop_dataset)\n",
    "clusterer = KMeans(n_clusters=7, random_state=42, max_iter=500)\n",
    "cluster_labels_fill = clusterer.fit_predict(fill_dataset)"
   ]
  },
  {
   "cell_type": "code",
   "execution_count": 153,
   "metadata": {},
   "outputs": [],
   "source": [
    "data_x_drop = data_x_y_drop.transpose()[0]\n",
    "data_y_drop = data_x_y_drop.transpose()[1]\n",
    "data_x_fill = data_x_y_fill.transpose()[0]\n",
    "data_y_fill = data_x_y_fill.transpose()[1]"
   ]
  },
  {
   "cell_type": "code",
   "execution_count": 166,
   "metadata": {},
   "outputs": [
    {
     "data": {
      "image/png": "[encoded data removed]",
      "text/plain": [
       "<Figure size 1080x360 with 2 Axes>"
      ]
     },
     "metadata": {},
     "output_type": "display_data"
    }
   ],
   "source": [
    "figure, axis = plt.subplots(1, 2, figsize=(15,5))\n",
    "\n",
    "\n",
    "axis[0].scatter(data_x_drop, data_y_drop, c=cluster_labels_drop, cmap ='Set3', s=5)\n",
    "axis[0].set_title(\"Drop variant\")\n",
    "  \n",
    "axis[1].scatter(data_x_fill, data_y_fill, c=cluster_labels_fill, cmap ='Set3', s=5)\n",
    "axis[1].set_title(\"Fill variant\")\n",
    "\n",
    "plt.show()"
   ]
  },
  {
   "cell_type": "markdown",
   "metadata": {},
   "source": [
    "# Вспомогательные элементы для майнинга данных"
   ]
  },
  {
   "cell_type": "markdown",
   "metadata": {},
   "source": [
    "* Библиотека `Selenium`: https://selenium-python.readthedocs.io/\n",
    "\n",
    "Полезные методы и рекомендации:\n",
    "    \n",
    "* `element = browser.find_elements_by_*что угодно*()` # Поиск элемента на странице\n",
    "* `element.click()` # Кликнуть по элементу (провалится по ссылке / расскрыть банер)\n",
    "* `browser.back()` # Вернуться назад \n",
    "* `pd.read_html()` # Способ загрузить таблицку из html сразу в Pandas\n",
    "* Спрашивать в чате или гуглить"
   ]
  },
  {
   "cell_type": "markdown",
   "metadata": {},
   "source": [
    "# Примечания"
   ]
  },
  {
   "cell_type": "code",
   "execution_count": 14,
   "metadata": {},
   "outputs": [
    {
     "data": {
      "text/html": [
       "<div>\n",
       "<style scoped>\n",
       "    .dataframe tbody tr th:only-of-type {\n",
       "        vertical-align: middle;\n",
       "    }\n",
       "\n",
       "    .dataframe tbody tr th {\n",
       "        vertical-align: top;\n",
       "    }\n",
       "\n",
       "    .dataframe thead th {\n",
       "        text-align: right;\n",
       "    }\n",
       "</style>\n",
       "<table border=\"1\" class=\"dataframe\">\n",
       "  <thead>\n",
       "    <tr style=\"text-align: right;\">\n",
       "      <th></th>\n",
       "      <th>0</th>\n",
       "      <th>1</th>\n",
       "    </tr>\n",
       "  </thead>\n",
       "  <tbody>\n",
       "    <tr>\n",
       "      <th>0</th>\n",
       "      <td>Знания</td>\n",
       "      <td>NaN</td>\n",
       "    </tr>\n",
       "    <tr>\n",
       "      <th>1</th>\n",
       "      <td>Умение преподавать</td>\n",
       "      <td>NaN</td>\n",
       "    </tr>\n",
       "    <tr>\n",
       "      <th>2</th>\n",
       "      <td>В общении</td>\n",
       "      <td>NaN</td>\n",
       "    </tr>\n",
       "    <tr>\n",
       "      <th>3</th>\n",
       "      <td>«Халявность»</td>\n",
       "      <td>NaN</td>\n",
       "    </tr>\n",
       "    <tr>\n",
       "      <th>4</th>\n",
       "      <td>Общая оценка</td>\n",
       "      <td>NaN</td>\n",
       "    </tr>\n",
       "  </tbody>\n",
       "</table>\n",
       "</div>"
      ],
      "text/plain": [
       "                    0   1\n",
       "0              Знания NaN\n",
       "1  Умение преподавать NaN\n",
       "2           В общении NaN\n",
       "3        «Халявность» NaN\n",
       "4        Общая оценка NaN"
      ]
     },
     "execution_count": 14,
     "metadata": {},
     "output_type": "execute_result"
    }
   ],
   "source": [
    "# Таблица с рейтингом парсится неправильно, её нужно прасить отдельно\n",
    "info_table = pd.read_html('http://wikimipt.org/wiki/%D0%90%D0%B3%D0%B0%D1%85%D0%B0%D0%BD%D0%BE%D0%B2_%D0%9D%D0%B0%D0%B7%D0%B0%D1%80_%D0%A5%D0%B0%D0%BD%D0%B3%D0%B5%D0%BB%D1%8C%D0%B4%D1%8B%D0%B5%D0%B2%D0%B8%D1%87')[1]\n",
    "info_table"
   ]
  },
  {
   "cell_type": "code",
   "execution_count": null,
   "metadata": {},
   "outputs": [],
   "source": []
  }
 ],
 "metadata": {
  "kernelspec": {
   "display_name": "Python 3",
   "language": "python",
   "name": "python3"
  },
  "language_info": {
   "codemirror_mode": {
    "name": "ipython",
    "version": 3
   },
   "file_extension": ".py",
   "mimetype": "text/x-python",
   "name": "python",
   "nbconvert_exporter": "python",
   "pygments_lexer": "ipython3",
   "version": "3.8.8"
  },
  "toc": {
   "base_numbering": 1,
   "nav_menu": {},
   "number_sections": true,
   "sideBar": true,
   "skip_h1_title": false,
   "title_cell": "Table of Contents",
   "title_sidebar": "Contents",
   "toc_cell": false,
   "toc_position": {},
   "toc_section_display": true,
   "toc_window_display": false
  }
 },
 "nbformat": 4,
 "nbformat_minor": 4
}
